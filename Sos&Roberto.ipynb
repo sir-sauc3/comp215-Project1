{
  "nbformat": 4,
  "nbformat_minor": 0,
  "metadata": {
    "colab": {
      "provenance": [],
      "include_colab_link": true
    },
    "kernelspec": {
      "name": "python3",
      "display_name": "Python 3"
    },
    "language_info": {
      "name": "python"
    }
  },
  "cells": [
    {
      "cell_type": "markdown",
      "metadata": {
        "id": "view-in-github",
        "colab_type": "text"
      },
      "source": [
        "<a href=\"https://colab.research.google.com/github/sir-sauc3/comp215-Project1/blob/main/Sos%26Roberto.ipynb\" target=\"_parent\"><img src=\"https://colab.research.google.com/assets/colab-badge.svg\" alt=\"Open In Colab\"/></a>"
      ]
    },
    {
      "cell_type": "code",
      "execution_count": 1,
      "metadata": {
        "id": "MDh_4LAVb-ff"
      },
      "outputs": [],
      "source": [
        "# this is our key: k_w26fb6h9\n",
        "# api url top 250 movies: https://imdb-api.com/en/API/Top250Movies/k_w26fb6h9\n",
        "# api url for movie casst: https://imdb-api.com/en/API/FullCast/k_w26fb6h9/${movie ID}\n"
      ]
    },
    {
      "cell_type": "code",
      "source": [
        "import json, requests\n",
        "from pprint import pprint\n",
        "from dataclasses import dataclass"
      ],
      "metadata": {
        "id": "PIKlawyzgKPA"
      },
      "execution_count": 10,
      "outputs": []
    },
    {
      "cell_type": "code",
      "source": [
        "@dataclass\n",
        "class Actor:\n",
        "  name : str\n",
        "  id : str\n",
        "  image : str\n",
        "\n",
        "  @classmethod\n",
        "  def createActor(cls, name, id, image):\n",
        "    return cls(name, id, image)\n",
        "    \n",
        "\n",
        "@dataclass\n",
        "class Movie:\n",
        "  title : str\n",
        "  id : str\n",
        "  image: str\n",
        "\n",
        "  @classmethod\n",
        "  def createMovie(cls, title, id, image):\n",
        "    return cls(title, id, image)"
      ],
      "metadata": {
        "id": "BT51YDfnkwT9"
      },
      "execution_count": 11,
      "outputs": []
    },
    {
      "cell_type": "code",
      "source": [
        "API_KEY = 'k_w26fb6h9'\n",
        "\n",
        "url = f'https://imdb-api.com/en/API/Top250Movies/k_w26fb6h9'\n",
        "\n",
        "response = requests.request(\"GET\", url, headers={}, data={})\n",
        "\n",
        "data = json.loads(response.text)\n",
        "pprint(data)\n",
        "\n",
        "movies = [(movie['title'],\n",
        "          movie['id'],\n",
        "          movie['image']) for movie in data['items']]\n",
        "# pprint(movies)\n",
        "\n",
        "\n",
        "# movies = [[data['items'][i]['title'], \n",
        "#            data['items'][i]['id'], \n",
        "#            [data['items'][i]['image']]\n",
        "#            ] for i in range(len(data['items']))]"
      ],
      "metadata": {
        "id": "c8asnL4DfAIT",
        "colab": {
          "base_uri": "https://localhost:8080/"
        },
        "outputId": "3d948320-ed25-45eb-d34b-19999d9fe6ee"
      },
      "execution_count": 15,
      "outputs": [
        {
          "output_type": "stream",
          "name": "stdout",
          "text": [
            "{'errorMessage': 'Maximum usage (110 of 100 per day)', 'items': []}\n"
          ]
        }
      ]
    },
    {
      "cell_type": "code",
      "source": [
        "movie_id = 'tt1950186'\n",
        "\n",
        "url = f'https://imdb-api.com/en/API/FullCast/k_w26fb6h9/{movie_id}'\n",
        "\n",
        "response = requests.request(\"GET\", url, headers={}, data={})\n",
        "\n",
        "data = json.loads(response.text)\n",
        "# pprint(data)\n",
        "\n",
        "fullcast=[]\n",
        "fullcast = [(actor['name'],\n",
        "            actor['id'],\n",
        "            actor['image']) for actor in data['actors']]\n",
        "pprint(fullcast)\n",
        "\n",
        "\"\"\"\n",
        "NOTED THAT FULLCAST ABOVE CONTAINS THE CAST OF ONE MOVIE ONLY. HOWEVER,\n",
        "FULLCAST IN THE CODE BELOW CONTAINS A LIST OF DICTIONARIES (MOVIE ID BEING KEY AND LIST OF ACTORS BEING VALUE)\n",
        "OF ALL THE CAST MEMBERS FROM THE APIs DATABASE\n",
        "MEANING IT MAKES A TOTAL OF 250 REQUESTS\n",
        "\"\"\"\n",
        "\n",
        "\n",
        "# fullcast = [dict(id=[(cast_member['name'], \n",
        "#                       cast_member['id'], \n",
        "#                       cast_member['image']) \n",
        "#                       for cast_member in json.loads(requests.request(\"GET\",\n",
        "#                                                                      f'https://imdb-api.com/en/API/FullCast/k_w26fb6h9/{id}', \n",
        "#                                                                      headers={}, \n",
        "#                                                                      data={}).text)['actors']])\n",
        "#                                                                      for (title, id, image) in movies]\n",
        "\n",
        "\n",
        "# no_picture = len([1 for tup in fullcast if 'nopicture' in tup[2]])\n",
        "# no_picture\n",
        "\n",
        "# fullcast = [[data['actors'][i]['name'], \n",
        "#              data['actors'][i]['id'], \n",
        "#              data['actors'][i]['image']] \n",
        "#             for i in range(len(data['actors']))]"
      ],
      "metadata": {
        "id": "83dOGFw7j5CT",
        "colab": {
          "base_uri": "https://localhost:8080/",
          "height": 232
        },
        "outputId": "ff6cde7c-2739-4d26-b2aa-b646f9f0a7a8"
      },
      "execution_count": 21,
      "outputs": [
        {
          "output_type": "error",
          "ename": "TypeError",
          "evalue": "ignored",
          "traceback": [
            "\u001b[0;31m---------------------------------------------------------------------------\u001b[0m",
            "\u001b[0;31mTypeError\u001b[0m                                 Traceback (most recent call last)",
            "\u001b[0;32m<ipython-input-21-e956119f3642>\u001b[0m in \u001b[0;36m<module>\u001b[0;34m\u001b[0m\n\u001b[1;32m      9\u001b[0m \u001b[0;34m\u001b[0m\u001b[0m\n\u001b[1;32m     10\u001b[0m \u001b[0mfullcast\u001b[0m\u001b[0;34m=\u001b[0m\u001b[0;34m[\u001b[0m\u001b[0;34m]\u001b[0m\u001b[0;34m\u001b[0m\u001b[0;34m\u001b[0m\u001b[0m\n\u001b[0;32m---> 11\u001b[0;31m fullcast = [(actor['name'],\n\u001b[0m\u001b[1;32m     12\u001b[0m             \u001b[0mactor\u001b[0m\u001b[0;34m[\u001b[0m\u001b[0;34m'id'\u001b[0m\u001b[0;34m]\u001b[0m\u001b[0;34m,\u001b[0m\u001b[0;34m\u001b[0m\u001b[0;34m\u001b[0m\u001b[0m\n\u001b[1;32m     13\u001b[0m             actor['image']) for actor in data['actors']]\n",
            "\u001b[0;31mTypeError\u001b[0m: 'NoneType' object is not iterable"
          ]
        }
      ]
    },
    {
      "cell_type": "code",
      "source": [
        "# Movielist = [Movie.createMovie(movieInfo[0], movieInfo[1], movieInfo[2]) for movieInfo in movies]\n",
        "# pprint(Movielist)\n",
        "\n",
        "# Actorlist = [Actor.createActor(actorInfo[0], actorInfo[1], actorInfo[2]) for actorInfo in fullcast]\n",
        "# pprint(Actorlist)\n",
        "\n",
        "\n",
        "Movielist = [Movie.createMovie(title, id, image) for (title, id, image) in movies]\n",
        "pprint(Movielist)\n",
        "\n",
        "Actorlist = [Actor.createActor(name, id, image) for (name, id, image) in fullcast]\n",
        "pprint(Actorlist)"
      ],
      "metadata": {
        "id": "pomJuM0wr_mi",
        "colab": {
          "base_uri": "https://localhost:8080/"
        },
        "collapsed": true,
        "outputId": "d7a91532-a041-420c-c487-aff600c41742"
      },
      "execution_count": 20,
      "outputs": [
        {
          "output_type": "stream",
          "name": "stdout",
          "text": [
            "[]\n",
            "[]\n"
          ]
        }
      ]
    }
  ]
}