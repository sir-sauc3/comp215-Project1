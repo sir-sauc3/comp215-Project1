{
  "nbformat": 4,
  "nbformat_minor": 0,
  "metadata": {
    "colab": {
      "provenance": [],
      "include_colab_link": true
    },
    "kernelspec": {
      "name": "python3",
      "display_name": "Python 3"
    },
    "language_info": {
      "name": "python"
    }
  },
  "cells": [
    {
      "cell_type": "markdown",
      "metadata": {
        "id": "view-in-github",
        "colab_type": "text"
      },
      "source": [
        "<a href=\"https://colab.research.google.com/github/sir-sauc3/comp215-Project1/blob/main/Sos%26Roberto.ipynb\" target=\"_parent\"><img src=\"https://colab.research.google.com/assets/colab-badge.svg\" alt=\"Open In Colab\"/></a>"
      ]
    },
    {
      "cell_type": "code",
      "execution_count": 1,
      "metadata": {
        "id": "MDh_4LAVb-ff"
      },
      "outputs": [],
      "source": [
        "# this is our key: k_w26fb6h9\n",
        "# api url top 250 movies: https://imdb-api.com/en/API/Top250Movies/k_w26fb6h9\n",
        "# api url for movie casst: https://imdb-api.com/en/API/FullCast/k_w26fb6h9/${movie ID}\n"
      ]
    },
    {
      "cell_type": "code",
      "source": [
        "import json, requests\n",
        "from pprint import pprint\n",
        "from dataclasses import dataclass"
      ],
      "metadata": {
        "id": "PIKlawyzgKPA"
      },
      "execution_count": 2,
      "outputs": []
    },
    {
      "cell_type": "code",
      "source": [
        "@dataclass\n",
        "class Actor:\n",
        "  name : str\n",
        "  id : str\n",
        "  image : str\n",
        "\n",
        "  @classmethod\n",
        "  def createActor(cls, name, id, image):\n",
        "    return cls(name, id, image)\n",
        "    \n",
        "\n",
        "@dataclass\n",
        "class Movie:\n",
        "  title : str\n",
        "  id : str\n",
        "  image: str\n",
        "\n",
        "  @classmethod\n",
        "  def createMovie(cls, title, id, image):\n",
        "    return cls(title, id, image)"
      ],
      "metadata": {
        "id": "BT51YDfnkwT9"
      },
      "execution_count": 3,
      "outputs": []
    },
    {
      "cell_type": "code",
      "source": [
        "API_KEY = 'k_w26fb6h9'\n",
        "\n",
        "url = f'https://imdb-api.com/en/API/Top250Movies/k_w26fb6h9'\n",
        "\n",
        "response = requests.request(\"GET\", url, headers={}, data={})\n",
        "\n",
        "data = json.loads(response.text)\n",
        "\n",
        "movies = [(movie['title'],\n",
        "          movie['id'],\n",
        "          movie['image']) for movie in data['items']]\n",
        "pprint(movies)\n",
        "\n",
        "\n",
        "# movies = [[data['items'][i]['title'], \n",
        "#            data['items'][i]['id'], \n",
        "#            [data['items'][i]['image']]\n",
        "#            ] for i in range(len(data['items']))]"
      ],
      "metadata": {
        "id": "c8asnL4DfAIT"
      },
      "execution_count": null,
      "outputs": []
    },
    {
      "cell_type": "code",
      "source": [
        "movie_id = 'tt1950186'\n",
        "\n",
        "url = f'https://imdb-api.com/en/API/FullCast/k_w26fb6h9/{movie_id}'\n",
        "\n",
        "response = requests.request(\"GET\", url, headers={}, data={})\n",
        "\n",
        "data = json.loads(response.text)\n",
        "\n",
        "fullcast = [(actor['name'],\n",
        "            actor['id'],\n",
        "            actor['image']) for actor in data['actors']]\n",
        "# pprint(fullcast)\n",
        "\n",
        "no_picture = len([1 for tup in fullcast if 'nopicture' in tup[2]])\n",
        "no_picture\n",
        "\n",
        "# fullcast = [[data['actors'][i]['name'], \n",
        "#              data['actors'][i]['id'], \n",
        "#              data['actors'][i]['image']] \n",
        "#             for i in range(len(data['actors']))]"
      ],
      "metadata": {
        "id": "83dOGFw7j5CT",
        "colab": {
          "base_uri": "https://localhost:8080/"
        },
        "outputId": "dc1c0974-5797-4700-ad61-94f284cc248e"
      },
      "execution_count": 5,
      "outputs": [
        {
          "output_type": "execute_result",
          "data": {
            "text/plain": [
              "69"
            ]
          },
          "metadata": {},
          "execution_count": 5
        }
      ]
    },
    {
      "cell_type": "code",
      "source": [
        "# Movielist = [Movie.createMovie(movieInfo[0], movieInfo[1], movieInfo[2]) for movieInfo in movies]\n",
        "# pprint(Movielist)\n",
        "\n",
        "# Actorlist = [Actor.createActor(actorInfo[0], actorInfo[1], actorInfo[2]) for actorInfo in fullcast]\n",
        "# pprint(Actorlist)\n",
        "\n",
        "\n",
        "Movielist = [Movie.createMovie(title, id, image) for (title, id, image) in movies]\n",
        "pprint(Movielist)\n",
        "\n",
        "Actorlist = [Actor.createActor(name, id, image) for (name, id, image) in fullcast]\n",
        "pprint(Actorlist)"
      ],
      "metadata": {
        "id": "pomJuM0wr_mi",
        "collapsed": true
      },
      "execution_count": null,
      "outputs": []
    }
  ]
}