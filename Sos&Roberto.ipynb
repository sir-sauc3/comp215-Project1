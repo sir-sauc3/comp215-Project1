{
  "nbformat": 4,
  "nbformat_minor": 0,
  "metadata": {
    "colab": {
      "provenance": [],
      "include_colab_link": true
    },
    "kernelspec": {
      "name": "python3",
      "display_name": "Python 3"
    },
    "language_info": {
      "name": "python"
    }
  },
  "cells": [
    {
      "cell_type": "markdown",
      "metadata": {
        "id": "view-in-github",
        "colab_type": "text"
      },
      "source": [
        "<a href=\"https://colab.research.google.com/github/sir-sauc3/comp215-Project1/blob/main/Sos%26Roberto.ipynb\" target=\"_parent\"><img src=\"https://colab.research.google.com/assets/colab-badge.svg\" alt=\"Open In Colab\"/></a>"
      ]
    },
    {
      "cell_type": "code",
      "execution_count": 170,
      "metadata": {
        "id": "MDh_4LAVb-ff"
      },
      "outputs": [],
      "source": [
        "# this is our key: k_w26fb6h9\n",
        "# api url top 250 movies: https://imdb-api.com/en/API/Top250Movies/k_w26fb6h9\n",
        "# api url for movie casst: https://imdb-api.com/en/API/FullCast/k_w26fb6h9/${movie ID}\n"
      ]
    },
    {
      "cell_type": "code",
      "source": [
        "import json, requests\n",
        "from pprint import pprint\n",
        "from dataclasses import dataclass\n",
        "import matplotlib.pyplot as plt\n",
        "import networkx as nx"
      ],
      "metadata": {
        "id": "PIKlawyzgKPA"
      },
      "execution_count": 171,
      "outputs": []
    },
    {
      "cell_type": "code",
      "source": [
        "@dataclass\n",
        "class Actor:\n",
        "  name : str\n",
        "  id : str\n",
        "  image : str\n",
        "\n",
        "  @classmethod\n",
        "  def createActor(cls, name, id, image):\n",
        "    return cls(name, id, image)\n",
        "    \n",
        "\n",
        "@dataclass\n",
        "class Movie:\n",
        "  title : str\n",
        "  id : str\n",
        "  image: str\n",
        "\n",
        "  @classmethod\n",
        "  def createMovie(cls, title, id, image):\n",
        "    return cls(title, id, image)"
      ],
      "metadata": {
        "id": "BT51YDfnkwT9"
      },
      "execution_count": 172,
      "outputs": []
    },
    {
      "cell_type": "code",
      "source": [
        "API_KEY = 'k_w26fb6h9'\n",
        "\n",
        "url = f'https://imdb-api.com/en/API/Top250Movies/k_w26fb6h9'\n",
        "\n",
        "response = requests.request(\"GET\", url, headers={}, data={})\n",
        "\n",
        "data = json.loads(response.text)\n",
        "# pprint(data)\n",
        "\n",
        "movies = [(movie['title'],\n",
        "          movie['id'],\n",
        "          movie['image']) for movie in data['items']]\n",
        "\n",
        "\n",
        "# pprint(movies)\n",
        "\n",
        "\n",
        "# movies = [[data['items'][i]['title'], \n",
        "#            data['items'][i]['id'], \n",
        "#            [data['items'][i]['image']]\n",
        "#            ] for i in range(len(data['items']))]"
      ],
      "metadata": {
        "id": "c8asnL4DfAIT"
      },
      "execution_count": 188,
      "outputs": []
    },
    {
      "cell_type": "code",
      "source": [
        "movie_items = [data for data in data['items']]\n",
        "# pprint(movie_items)\n",
        "\n",
        "#collects last two crew members (actors) from 'crew' key in items\n",
        "crew = [[crew['crew'].split(', ')[-2], crew['crew'].split(', ')[-1]] for crew in data['items']]\n",
        "# pprint(crew)"
      ],
      "metadata": {
        "id": "RQX7C55CrVbR"
      },
      "execution_count": 190,
      "outputs": []
    },
    {
      "cell_type": "code",
      "source": [
        "# I MADE THIS TO TEST OUT HOW WE MAY DISPLAY ACTORS SINCE TOP 250 DOESN'T COME WITH ACTOR IDs\n",
        "\n",
        "@dataclass\n",
        "class Act:\n",
        "  name: str\n",
        "\n",
        "  @classmethod\n",
        "  def makeActor(cls, name):\n",
        "    return cls(name)"
      ],
      "metadata": {
        "id": "l_XB4JfqKR7y"
      },
      "execution_count": 175,
      "outputs": []
    },
    {
      "cell_type": "markdown",
      "source": [],
      "metadata": {
        "id": "kQXs0mZA4x-p"
      }
    },
    {
      "cell_type": "code",
      "source": [
        "set_of_actors = set()\n",
        "for i in range(len(crew)):\n",
        "  for x in range(2): #because each crew group comes with 2 actors\n",
        "    #adding actors by their 1st name and initials of 2nd coz graph labels are too long and clutter the space\n",
        "    if len(crew[i][x].split(' ')) > 1: #checks if actor has more than 1 fisrt name\n",
        "      set_of_actors.add(' '.join((crew[i][x].split(' ')[0], crew[i][x].split(' ')[1][:2]))) #joins 1st name and first 2 letters of last name\n",
        "    else: #if they're only referenced by one name i.e Zendaya, (thus not having an initial for 2nd name)\n",
        "      set_of_actors.add(crew[i][x]) #add their one name only\n",
        "\n",
        "# pprint(set_of_actors)"
      ],
      "metadata": {
        "id": "cHZd2D9S9U0i"
      },
      "execution_count": 177,
      "outputs": []
    },
    {
      "cell_type": "markdown",
      "source": [],
      "metadata": {
        "id": "0r6ZIQ7I427Y"
      }
    },
    {
      "cell_type": "code",
      "source": [
        "#was meant to make a graph with edges but got too tired to complete it.\n",
        "#if you uncomment line 15-24 it'll plot the nodes of the first 7 actors.\n",
        "#7 being an arbitrary value for the purpose of testing\n",
        "\n",
        "actors = [Act.makeActor(item) for item in set_of_actors] #list of actor objects\n",
        "# pprint(actors)\n",
        "\n",
        "\n",
        "\n",
        "\n",
        "# #adding an edge between actors\n",
        "# #for person in \n",
        "\n",
        "\n",
        "# actor_graph = nx.Graph()\n",
        "# for actor in actors[:7]:\n",
        "#   actor_graph.add_node(actor.name)\n",
        "\n",
        "# nx.draw_circular(actor_graph,\n",
        "#                  node_color='#bbddff',\n",
        "#                  node_size=50,\n",
        "#                  with_labels=True)\n",
        "# plt.axis('equal')\n",
        "# plt.show()"
      ],
      "metadata": {
        "id": "cQXePySQRI7k"
      },
      "execution_count": 193,
      "outputs": []
    },
    {
      "cell_type": "markdown",
      "source": [
        "From here onwards I didn't do much since it was the code we wrote together"
      ],
      "metadata": {
        "id": "kKdq_wdv5YdX"
      }
    },
    {
      "cell_type": "code",
      "source": [
        "movie_id = 'tt1950186' #random movie id i picked from data['items'] in 4th code block\n",
        "\n",
        "url = f'https://imdb-api.com/en/API/FullCast/k_w26fb6h9/{movie_id}'\n",
        "\n",
        "response = requests.request(\"GET\", url, headers={}, data={})\n",
        "\n",
        "data = json.loads(response.text)\n",
        "# pprint(data)\n",
        "\n",
        "fullcast=[]\n",
        "fullcast = [(actor['name'],\n",
        "            actor['id'],\n",
        "            actor['image']) for actor in data['actors']]\n",
        "# pprint(fullcast)\n",
        "\n",
        "\"\"\"\n",
        "NOTED THAT FULLCAST ABOVE CONTAINS THE CAST OF ONE MOVIE ONLY. HOWEVER,\n",
        "FULLCAST IN THE CODE BELOW CONTAINS A LIST OF DICTIONARIES (MOVIE ID BEING KEY AND LIST OF ACTORS BEING VALUE)\n",
        "OF ALL THE CAST MEMBERS FROM THE APIs DATABASE\n",
        "MEANING IT MAKES A TOTAL OF 250 REQUESTS\n",
        "\"\"\"\n",
        "\n",
        "\n",
        "# fullcast = [dict(id=[(cast_member['name'], \n",
        "#                       cast_member['id'], \n",
        "#                       cast_member['image']) \n",
        "#                       for cast_member in json.loads(requests.request(\"GET\",\n",
        "#                                                                      f'https://imdb-api.com/en/API/FullCast/k_w26fb6h9/{id}', \n",
        "#                                                                      headers={}, \n",
        "#                                                                      data={}).text)['actors']])\n",
        "#                                                                      for (title, id, image) in movies]\n",
        "\n",
        "\n",
        "# no_picture = len([1 for tup in fullcast if 'nopicture' in tup[2]])\n",
        "# no_picture\n",
        "\n",
        "# fullcast = [[data['actors'][i]['name'], \n",
        "#              data['actors'][i]['id'], \n",
        "#              data['actors'][i]['image']] \n",
        "#             for i in range(len(data['actors']))]"
      ],
      "metadata": {
        "id": "83dOGFw7j5CT"
      },
      "execution_count": null,
      "outputs": []
    },
    {
      "cell_type": "code",
      "source": [
        "# Movielist = [Movie.createMovie(movieInfo[0], movieInfo[1], movieInfo[2]) for movieInfo in movies]\n",
        "# pprint(Movielist)\n",
        "\n",
        "# Actorlist = [Actor.createActor(actorInfo[0], actorInfo[1], actorInfo[2]) for actorInfo in fullcast]\n",
        "# pprint(Actorlist)\n",
        "\n",
        "\n",
        "MovieObjects = [Movie.createMovie(title, id, image) for (title, id, image) in movies]\n",
        "pprint(MovieObjects)\n",
        "\n",
        "ActorObjects = [Actor.createActor(name, id, image) for (name, id, image) in fullcast]\n",
        "pprint(ActorObjects)"
      ],
      "metadata": {
        "id": "pomJuM0wr_mi",
        "collapsed": true
      },
      "execution_count": null,
      "outputs": []
    }
  ]
}