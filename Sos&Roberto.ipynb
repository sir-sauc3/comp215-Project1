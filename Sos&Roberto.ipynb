{
  "nbformat": 4,
  "nbformat_minor": 0,
  "metadata": {
    "colab": {
      "provenance": [],
      "include_colab_link": true
    },
    "kernelspec": {
      "name": "python3",
      "display_name": "Python 3"
    },
    "language_info": {
      "name": "python"
    }
  },
  "cells": [
    {
      "cell_type": "markdown",
      "metadata": {
        "id": "view-in-github",
        "colab_type": "text"
      },
      "source": [
        "<a href=\"https://colab.research.google.com/github/sir-sauc3/comp215-Project1/blob/main/Sos%26Roberto.ipynb\" target=\"_parent\"><img src=\"https://colab.research.google.com/assets/colab-badge.svg\" alt=\"Open In Colab\"/></a>"
      ]
    },
    {
      "cell_type": "code",
      "execution_count": null,
      "metadata": {
        "id": "MDh_4LAVb-ff"
      },
      "outputs": [],
      "source": [
        "# this is our key: k_w26fb6h9\n",
        "# api url top 250 movies: https://imdb-api.com/en/API/Top250Movies/k_w26fb6h9\n",
        "# api url for movie casst: https://imdb-api.com/en/API/FullCast/k_w26fb6h9/${movie ID}"
      ]
    },
    {
      "cell_type": "code",
      "source": [
        "import json, requests\n",
        "from pprint import pprint\n",
        "from dataclasses import dataclass\n",
        "import matplotlib.pyplot as plt\n",
        "import networkx as nx\n",
        "from collections import Counter\n",
        "import numpy as np"
      ],
      "metadata": {
        "id": "PIKlawyzgKPA"
      },
      "execution_count": null,
      "outputs": []
    },
    {
      "cell_type": "code",
      "source": [
        "#Making classes for easier data wrangling \n",
        "@dataclass\n",
        "class Actor:\n",
        "  name : str\n",
        "  id : str\n",
        "  image : str\n",
        "\n",
        "  @classmethod\n",
        "  def createActor(cls, name, id, image):\n",
        "    return cls(name, id, image)\n",
        "    \n",
        "\n",
        "@dataclass\n",
        "class Movie:\n",
        "  title : str\n",
        "  id : str\n",
        "  image: str\n",
        "\n",
        "  @classmethod\n",
        "  def createMovie(cls, title, id, image):\n",
        "    return cls(title, id, image)\n"
      ],
      "metadata": {
        "id": "nLed4EUOoK-9"
      },
      "execution_count": null,
      "outputs": []
    },
    {
      "cell_type": "code",
      "source": [
        "# Making the API call for data\n",
        "API_KEY = 'k_w26fb6h9'\n",
        "\n",
        "url = f'https://imdb-api.com/en/API/Top250Movies/k_w26fb6h9'\n",
        "\n",
        "response = requests.request(\"GET\", url, headers={}, data={})\n",
        "\n",
        "data = json.loads(response.text)\n"
      ],
      "metadata": {
        "id": "FqZz7l-jtwC9"
      },
      "execution_count": null,
      "outputs": []
    },
    {
      "cell_type": "code",
      "source": [
        "# Data prep for graph\n",
        "movies = [(movie['title'],\n",
        "          movie['id'],\n",
        "          movie['image']) for movie in data['items']]\n",
        "\n",
        "movie_items = [data for data in data['items']]\n",
        "\n",
        "#collects last two crew members (actors) from 'crew' key in items\n",
        "crew = [[crew['crew'].split(', ')[-2], crew['crew'].split(', ')[-1]] for crew in data['items']]\n",
        "# pprint(crew) #ONE OF THE THINGS WE NEED\n",
        "\n",
        "allActors = set() #OTHER PIECE OF DATA WE NEED\n",
        "\n",
        "for pair in crew:\n",
        "  allActors.add(pair[0])\n",
        "  allActors.add(pair[1])\n",
        "\n",
        "set_of_actors = set()\n",
        "for i in range(len(crew)):\n",
        "  for x in range(2): #because each crew group comes with 2 actors\n",
        "    #adding actors by their 1st name and initials of 2nd coz graph labels are too long and clutter the space\n",
        "    if len(crew[i][x].split(' ')) > 1: #checks if actor has more than 1 fisrt name\n",
        "      set_of_actors.add(' '.join((crew[i][x].split(' ')[0], crew[i][x].split(' ')[1]))) #joins 1st name and first 2 letters of last name\n",
        "    else: #if they're only referenced by one name i.e Zendaya, (thus not having an initial for 2nd name)\n",
        "      set_of_actors.add(crew[i][x]) #add their one name only\n",
        "  \n",
        "movieid_actor =  [(movie_info['id'], (movie_info['crew'].split(', ')[-2], movie_info['crew'].split(', ')[-1])) for movie_info in movie_items]\n",
        "movieid_dict =  {movie_info['id'] : (movie_info['crew'].split(', ')[-2], movie_info['crew'].split(', ')[-1]) for movie_info in movie_items}\n",
        "\n",
        "actors_dict = {actor: set() for actor in set_of_actors}\n",
        "for (key, value) in movieid_actor:\n",
        "  if value[0].count(\" \") == 2 or value[1].count(\" \") == 2:\n",
        "    continue\n",
        "  actors_dict[value[0]].add(key)\n",
        "  actors_dict[value[1]].add(key)\n",
        "\n",
        "actors_dict = {k : v for k,v in actors_dict.items() if v !=set()}\n",
        "\n",
        "movie_id = 'tt1950186' #random movie id i picked from data['items'] in 4th code block\n",
        "\n",
        "url = f'https://imdb-api.com/en/API/FullCast/k_w26fb6h9/{movie_id}'\n",
        "\n",
        "response = requests.request(\"GET\", url, headers={}, data={})\n",
        "\n",
        "data = json.loads(response.text)\n",
        "\n",
        "fullcast=[]\n",
        "fullcast = [(actor['name'],\n",
        "            actor['id'],\n",
        "            actor['image']) for actor in data['actors']]\n",
        "\n",
        "MovieObjects = [Movie.createMovie(title, id, image) for (title, id, image) in movies]\n",
        "\n",
        "ActorObjects = [Actor.createActor(name, id, image) for (name, id, image) in fullcast]\n",
        "\n",
        "# crew, allActors\n",
        "allActorsList = list(allActors)\n",
        "\n",
        "crew = crew[:30]\n",
        "allActorsList = allActorsList[:30]\n"
      ],
      "metadata": {
        "id": "2ceX_Ip-tzDw"
      },
      "execution_count": null,
      "outputs": []
    },
    {
      "cell_type": "code",
      "source": [
        "\n",
        "# Create a graph\n",
        "G = nx.Graph()\n",
        "\n",
        "# Add nodes to the graph\n",
        "G.add_nodes_from(allActorsList)\n",
        "\n",
        "# Add edges to the graph\n",
        "G.add_edges_from(crew)\n",
        "\n",
        "# Calculate shortest path lengths between all pairs of nodes\n",
        "path_lengths = dict(nx.shortest_path_length(G))\n",
        "\n",
        "# Draw the graph with node labels indicating degree of separation\n",
        "pos = nx.kamada_kawai_layout(G)\n",
        "plt.figure(3,figsize=(90,90))\n",
        "nx.draw(G, pos, node_color='red',\n",
        "                 font_size = 2,\n",
        "                 node_size=20,\n",
        "                 with_labels=True)\n",
        "labels = {actor: f\"{actor}\\n({degree} degrees)\" for actor, degree in path_lengths.items()}\n",
        "nx.draw_networkx_labels(G, pos, labels=labels)\n",
        "\n",
        "# Show the graph\n",
        "plt.show()"
      ],
      "metadata": {
        "id": "gV9M1iPct1Pj"
      },
      "execution_count": null,
      "outputs": []
    },
    {
      "cell_type": "code",
      "source": [
        "'''GRAPH ANALYSIS: CODE SECTION'''\n",
        "# Q1:\n",
        "# still gotta do the clustering analysis thing\n",
        "\n",
        "\n",
        "# We know the answer to this already, as we had actors with 0 connections\n",
        "# but for the sake of the process, we can check with nx's built in function\n",
        "is_connected = nx.is_connected(G)\n",
        "print(\"Is graph connected:\", is_connected)\n",
        "\n",
        "def is_graph_random(G, p=0.5, threshold=0.1):\n",
        "    # generate nx's reproduction of a \"random\" graph and compare to ours via threshhold \n",
        "    n = G.number_of_nodes()\n",
        "    m = G.number_of_edges()\n",
        "    random_G = nx.fast_gnp_random_graph(n, p)\n",
        "    random_m = random_G.number_of_edges()\n",
        "\n",
        "    if np.abs(random_m - m) / m < threshold:\n",
        "        return True\n",
        "    else:\n",
        "        return False\n",
        "\n",
        "print(\"Is graph random:\", is_graph_random(G))\n",
        "\n",
        "# Q2: *NetworkX is typically able to ue the nx.average_shortest_path_length(), but our graph is not connected.\n",
        "# That's why we have to kinda play the system lol \n",
        "largest_connected = max(nx.connected_components(G), key=len)\n",
        "subgraph = G.subgraph(largest_connected)\n",
        "\n",
        "# compute the average shortest path length of the largest connected component\n",
        "avg_path_length = nx.average_shortest_path_length(subgraph)\n",
        "\n",
        "print(\"Average path length (of connected part):\", avg_shortest_path_length)"
      ],
      "metadata": {
        "id": "sETMFZuMlOa4",
        "outputId": "f84f39de-f37a-4753-ba01-48445dd781f7",
        "colab": {
          "base_uri": "https://localhost:8080/"
        }
      },
      "execution_count": null,
      "outputs": [
        {
          "output_type": "stream",
          "name": "stdout",
          "text": [
            "Is graph connected: False\n",
            "Is graph random: False\n",
            "Average path length (of connected part): 1.5\n"
          ]
        }
      ]
    },
    {
      "cell_type": "markdown",
      "source": [
        "### GRAPH ANALYSIS:\n",
        "\n",
        "3 - Due to constraints in the graphical representation and data wrangling, we chose to only consider 2 actors from certain movies in the top 250. We did not use the fullCast API call, and instead relied purely on the 2 actors supplied in the Top250 API call. This severely cut down on the amount of connections each actor has on our graph - The code works the same, but the data passed through itlimited it heavily. We felt that clarity in the graphical nature of the graph was worth sacrificing the averaging number of connections per actor. For the few actors shown, some will have 0, some will have 2, 3, 4, etc. To reduce this bias, we could have passed in more data, however a graphical representation in this environment would be very ugly.****\n",
        "\n",
        "Another bias is the usage of only the top 250 movies. Despite many of these actors being world-class actors, they undoubtedly have worked on flop movies - movies that wouldn't show up in the top 250 IMDB database. This would have increased the number of connections, as the top 250 limits the data passed once again."
      ],
      "metadata": {
        "id": "KXNhrTCDj6V7"
      }
    }
  ]
}